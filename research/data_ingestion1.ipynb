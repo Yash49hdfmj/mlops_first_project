{
 "cells": [
  {
   "cell_type": "code",
   "execution_count": 1,
   "id": "6c8ed82e",
   "metadata": {},
   "outputs": [],
   "source": [
    "import os\n",
    "import sys\n",
    "sys.path.append(os.path.abspath(\"src\"))"
   ]
  },
  {
   "cell_type": "code",
   "execution_count": 2,
   "id": "d48173ee",
   "metadata": {},
   "outputs": [
    {
     "data": {
      "text/plain": [
       "'c:\\\\Users\\\\91810\\\\Documents\\\\mlops\\\\mlops_first_project\\\\research'"
      ]
     },
     "execution_count": 2,
     "metadata": {},
     "output_type": "execute_result"
    }
   ],
   "source": [
    "%pwd "
   ]
  },
  {
   "cell_type": "markdown",
   "id": "23bd4c06",
   "metadata": {},
   "source": [
    "change directory to parent dir"
   ]
  },
  {
   "cell_type": "code",
   "execution_count": 3,
   "id": "ad8c5e64",
   "metadata": {},
   "outputs": [
    {
     "data": {
      "text/plain": [
       "'C:\\\\Users\\\\91810\\\\Documents\\\\mlops\\\\mlops_first_project'"
      ]
     },
     "execution_count": 3,
     "metadata": {},
     "output_type": "execute_result"
    }
   ],
   "source": [
    "os.chdir(\"C:/Users/91810/Documents/mlops/mlops_first_project\")\n",
    "%pwd"
   ]
  },
  {
   "cell_type": "code",
   "execution_count": 4,
   "id": "e3fcff14",
   "metadata": {},
   "outputs": [],
   "source": [
    "from dataclasses import dataclass\n",
    "from pathlib import Path\n",
    "\n",
    "@dataclass\n",
    "class DataIngestconfig:\n",
    "    root_dir: Path\n",
    "    source_URL: str\n",
    "    local_data_file : Path\n",
    "    unzip_dir : Path"
   ]
  },
  {
   "cell_type": "code",
   "execution_count": 5,
   "id": "0bbae1a1",
   "metadata": {},
   "outputs": [
    {
     "name": "stdout",
     "output_type": "stream",
     "text": [
      "Reads a YAML file and returns its contents as an object with dot-access\n",
      "Run successfully\n",
      "more yaml generic functions create\n",
      "Creates one or more directories. Automatically skip existing ones\n",
      "Saves a dictionary as a .json file. Metadata , Predictions , Evaluations\n",
      "Loads a .json file and returns a ConfigBox (dot-accessible dict).\n",
      "Saves Any Python object (model, list, dictionary, etc.) to a file in binary format.\n",
      "Loads the binary file and returns the original Python object.\n"
     ]
    }
   ],
   "source": [
    "from src.datascienceproject.constants import *\n",
    "from src.datascienceproject.util.common import read_yaml,create_directories\n",
    "from pathlib import Path"
   ]
  },
  {
   "cell_type": "code",
   "execution_count": null,
   "id": "b867daa0",
   "metadata": {},
   "outputs": [],
   "source": [
    "class ConfigurationManager:\n",
    "    def __init__(self, config_filepath=CONFIG_FILE_PATH,\n",
    "                 params_filepath=PARAMS_FILE_PATH,\n",
    "                 schemas_filepath=SCHEMA_FILE_PATH\n",
    "                 ):\n",
    "        self.config = read_yaml(Path(config_filepath))\n",
    "        self.params = read_yaml(Path(params_filepath))\n",
    "        self.schema = read_yaml(Path(schemas_filepath))\n",
    "\n",
    "        create_directories([self.config.artifacts_root],verbose = True)\n",
    "\n",
    "    def get_data_ingestion_config(self)-> DataIngestconfig:\n",
    "        config = self.config.data_ingestion\n",
    "        create_directories([config.root_dir],verbose = True)\n",
    "\n",
    "        data_ingestion_config = DataIngestconfig(\n",
    "            root_dir=config.root_dir,\n",
    "            source_URL=config.source_URL,\n",
    "            local_data_file=config.local_data_file,\n",
    "            unzip_dir=config.unzip_dir\n",
    "        )\n",
    "        return data_ingestion_config"
   ]
  },
  {
   "cell_type": "markdown",
   "id": "95b9c0ee",
   "metadata": {},
   "source": [
    "components data ingestion"
   ]
  },
  {
   "cell_type": "code",
   "execution_count": 7,
   "id": "ed238161",
   "metadata": {},
   "outputs": [],
   "source": [
    "import urllib.request as request\n",
    "from src.datascienceproject import logger\n",
    "import zipfile"
   ]
  },
  {
   "cell_type": "code",
   "execution_count": 23,
   "id": "b20d8bb1",
   "metadata": {},
   "outputs": [],
   "source": [
    "import os\n",
    "from urllib import request\n",
    "from src.datascienceproject import logger  # adjust as per your logger module\n",
    "\n",
    "class DataIngestion:\n",
    "    def __init__(self, config):\n",
    "        self.config = config\n",
    "\n",
    "    def download_file(self):\n",
    "        url = str(self.config.source_URL).replace(\"\\\\\", \"/\").replace(\"https:/\", \"https://\")\n",
    "        local_file = str(self.config.local_data_file).replace(\"\\\\\", \"/\")\n",
    "\n",
    "        logger.info(f\"About to download from URL: '{url}'\")\n",
    "        print(\"URL before download:\", url)\n",
    "        print(\"Local file path:\", local_file)\n",
    "\n",
    "        if not os.path.exists(local_file):\n",
    "            filename, headers = request.urlretrieve(\n",
    "                url=url,\n",
    "                filename=local_file\n",
    "            )\n",
    "            logger.info(f\"{filename} downloaded with info: \\n{headers}\")\n",
    "        else:\n",
    "            logger.info(f\"File already exists: {local_file}\")\n",
    "\n",
    "\n",
    "\n",
    "    def extract_zip(self):\n",
    "        unzip_path = self.config.unzip_dir\n",
    "        os.makedirs(unzip_path, exist_ok=True)\n",
    "        with zipfile.ZipFile(self.config.local_data_file,'r') as zip_ref:\n",
    "            zip_ref.extractall(unzip_path)"
   ]
  },
  {
   "cell_type": "code",
   "execution_count": 24,
   "id": "a3a43f80",
   "metadata": {},
   "outputs": [
    {
     "name": "stdout",
     "output_type": "stream",
     "text": [
      "[2025-06-28 18:05:59,347:INFO:common:yaml file :config\\config.yaml loaded successfully]\n",
      "[2025-06-28 18:05:59,351:INFO:common:yaml file :params.yaml loaded successfully]\n",
      "[2025-06-28 18:05:59,355:INFO:common:yaml file :schema.yaml loaded successfully]\n",
      "[2025-06-28 18:05:59,359:INFO:common:created directory at:artifacts]\n",
      "[2025-06-28 18:05:59,362:INFO:common:created directory at:artifacts\\data_ingestion]\n",
      "[2025-06-28 18:05:59,363:INFO:3172246662:About to download from URL: 'https://raw.githubusercontent.com/Yash49hdfmj/mlops_first_project/main/data.zip']\n",
      "URL before download: https://raw.githubusercontent.com/Yash49hdfmj/mlops_first_project/main/data.zip\n",
      "Local file path: artifacts/data_ingestion/data.zip\n",
      "[2025-06-28 18:06:00,417:INFO:3172246662:artifacts/data_ingestion/data.zip downloaded with info: \n",
      "Connection: close\n",
      "Content-Length: 23329\n",
      "Cache-Control: max-age=300\n",
      "Content-Security-Policy: default-src 'none'; style-src 'unsafe-inline'; sandbox\n",
      "Content-Type: application/zip\n",
      "ETag: \"c69888a4ae59bc5a893392785a938ccd4937981c06ba8a9d6a21aa52b4ab5b6e\"\n",
      "Strict-Transport-Security: max-age=31536000\n",
      "X-Content-Type-Options: nosniff\n",
      "X-Frame-Options: deny\n",
      "X-XSS-Protection: 1; mode=block\n",
      "X-GitHub-Request-Id: D9CB:2FCC1B:8FD22:1A0951:685FE1B3\n",
      "Accept-Ranges: bytes\n",
      "Date: Sat, 28 Jun 2025 12:36:04 GMT\n",
      "Via: 1.1 varnish\n",
      "X-Served-By: cache-maa10242-MAA\n",
      "X-Cache: MISS\n",
      "X-Cache-Hits: 0\n",
      "X-Timer: S1751114164.877274,VS0,VE299\n",
      "Vary: Authorization,Accept-Encoding\n",
      "Access-Control-Allow-Origin: *\n",
      "Cross-Origin-Resource-Policy: cross-origin\n",
      "X-Fastly-Request-ID: 1d234bb3dd5315a5d0cf03e3b0e87c2486306b86\n",
      "Expires: Sat, 28 Jun 2025 12:41:04 GMT\n",
      "Source-Age: 0\n",
      "\n",
      "]\n"
     ]
    }
   ],
   "source": [
    "try:\n",
    "    config = ConfigurationManager()\n",
    "    data_ingestion_config = config.get_data_ingestion_config()\n",
    "    data_ingestion = DataIngestion(config = data_ingestion_config)\n",
    "    data_ingestion.download_file()\n",
    "    data_ingestion.extract_zip()\n",
    "\n",
    "except Exception as e:\n",
    "    raise e"
   ]
  },
  {
   "cell_type": "code",
   "execution_count": null,
   "id": "b8d35488",
   "metadata": {},
   "outputs": [
    {
     "name": "stdout",
     "output_type": "stream",
     "text": [
      "<function create_directories at 0x000001937F918DC0>\n",
      "(path_to_directories: list, verbose: bool = True)\n"
     ]
    }
   ],
   "source": [
    "import inspect\n",
    "print(create_directories)  # check what object it is\n",
    "print(inspect.signature(create_directories))  # see what Python thinks the function takes\n"
   ]
  },
  {
   "cell_type": "code",
   "execution_count": null,
   "id": "689ca049",
   "metadata": {},
   "outputs": [],
   "source": [
    "from importlib import reload\n",
    "from src.datascienceproject import util\n",
    "reload(util)\n",
    "from src.datascienceproject.util.common import create_directories\n"
   ]
  },
  {
   "cell_type": "code",
   "execution_count": null,
   "id": "b5afec55",
   "metadata": {},
   "outputs": [],
   "source": []
  },
  {
   "cell_type": "code",
   "execution_count": null,
   "id": "1f3dbe17",
   "metadata": {},
   "outputs": [],
   "source": []
  }
 ],
 "metadata": {
  "kernelspec": {
   "display_name": "Python 3",
   "language": "python",
   "name": "python3"
  },
  "language_info": {
   "codemirror_mode": {
    "name": "ipython",
    "version": 3
   },
   "file_extension": ".py",
   "mimetype": "text/x-python",
   "name": "python",
   "nbconvert_exporter": "python",
   "pygments_lexer": "ipython3",
   "version": "3.10.18"
  }
 },
 "nbformat": 4,
 "nbformat_minor": 5
}
